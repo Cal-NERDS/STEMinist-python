{
 "cells": [
  {
   "cell_type": "markdown",
   "metadata": {},
   "source": [
    "# Intro to Jupyter Notebook\n",
    "\n",
    "\n",
    "\n",
    "---\n",
    "<img src=\"https://calnerds.berkeley.edu/css/images/logo.jpg\"  /> <!--style=\"width: 500px; height: 275px;\"-->\n"
   ]
  },
  {
   "cell_type": "markdown",
   "metadata": {},
   "source": [
    "---\n",
    "## The Jupyter Notebook <a id = \"Jupyter Notebook\"></a>"
   ]
  },
  {
   "cell_type": "markdown",
   "metadata": {},
   "source": [
    "Notebooks is a document-like platform that contains text, code, visualizations, and more.\n",
    "\n",
    "A notebook is composed of rectangular sections called cells. There are 2 kinds of cells: __markdown__ and __code__. You can select any cell by clicking it once.\n",
    "\n",
    "__1)__ A markdown cell, such as this one, contains text. Markdown cells contains plain text and you can format this text in many different ways! ( This will not be covered on this workshop)\n",
    "  \n",
    "  * To edit Markdown cells:\n",
    "       * Click twice on the markdown cell, make your changes, and run your cell again! \n",
    "\n",
    "__2)__ A code cell contains code in Python, a programming language that we will be using for the remainder of this workshop. \n",
    "\n",
    " \n",
    "\n",
    "* To run code, \n",
    "    * press shift + enter or\n",
    "    * click the Run button in the toolbar at the top of the screen.\n",
    "    * If a code cell is running, you will see an asterisk (*) appear in the square brackets to the left of the cell. Once the cell has finished running, a number will replace the asterisk and any output from the code will appear under the cell. This is represented by a number. "
   ]
  },
  {
   "cell_type": "code",
   "execution_count": 18,
   "metadata": {},
   "outputs": [
    {
     "name": "stdout",
     "output_type": "stream",
     "text": [
      "Hello World!\n"
     ]
    }
   ],
   "source": [
    "# THIS IS A COMMENT: RUN THIS CELL\n",
    "print(\"Hello World!\")  # The print function displays the its content on the screen"
   ]
  },
  {
   "cell_type": "markdown",
   "metadata": {},
   "source": [
    "#### Comments\n",
    "The blue text followed by the hashtag (#) is a a __comment__.\n",
    "* Comments are ignored by the computer, that is, they are not executed with the rest of your code. \n",
    "\n",
    "* Comments are used to document or add notes about what your code cell is doing. You want to be kind to your future self and others by adding notes that will help you down the road. \n"
   ]
  },
  {
   "cell_type": "markdown",
   "metadata": {},
   "source": [
    "#### Adding and deleting cells"
   ]
  },
  {
   "cell_type": "code",
   "execution_count": null,
   "metadata": {},
   "outputs": [],
   "source": [
    "# TO DO"
   ]
  },
  {
   "cell_type": "markdown",
   "metadata": {},
   "source": [
    "#### Saving your work"
   ]
  },
  {
   "cell_type": "code",
   "execution_count": null,
   "metadata": {},
   "outputs": [],
   "source": [
    "# TO DO"
   ]
  },
  {
   "cell_type": "markdown",
   "metadata": {},
   "source": [
    "---\n",
    "Notebook developed by: Kseniya Usovich & Karla Palos\n",
    "\n",
    "Cal NERDS GitHub: https://github.com/Cal-NERDS\n"
   ]
  }
 ],
 "metadata": {
  "anaconda-cloud": {},
  "kernelspec": {
   "display_name": "Python 3",
   "language": "python",
   "name": "python3"
  },
  "language_info": {
   "codemirror_mode": {
    "name": "ipython",
    "version": 3
   },
   "file_extension": ".py",
   "mimetype": "text/x-python",
   "name": "python",
   "nbconvert_exporter": "python",
   "pygments_lexer": "ipython3",
   "version": "3.6.8"
  }
 },
 "nbformat": 4,
 "nbformat_minor": 1
}
