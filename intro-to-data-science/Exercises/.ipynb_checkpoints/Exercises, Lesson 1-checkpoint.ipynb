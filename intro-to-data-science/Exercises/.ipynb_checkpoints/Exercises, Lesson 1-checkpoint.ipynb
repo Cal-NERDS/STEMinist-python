{
 "cells": [
  {
   "cell_type": "markdown",
   "metadata": {},
   "source": [
    "## Exercises, Day 1"
   ]
  },
  {
   "cell_type": "markdown",
   "metadata": {},
   "source": [
    "In this Notebook, we will be doing exercises based on the topics that were covered on Day 1 of a STEMinist Bootcamp (Python)."
   ]
  },
  {
   "cell_type": "markdown",
   "metadata": {},
   "source": [
    "### Using Python for Arithmetics"
   ]
  },
  {
   "cell_type": "markdown",
   "metadata": {},
   "source": [
    "* What are the two numeric data types in Python?"
   ]
  },
  {
   "cell_type": "code",
   "execution_count": 3,
   "metadata": {},
   "outputs": [],
   "source": [
    "# EXERCISE 1\n",
    "\n",
    "# use Python's arithmetic operations to calculate \n",
    "# how many seconds are in one year (non-leap)\n",
    "\n",
    "\n",
    "seconds_a_year = ...\n",
    "print(\"There are: \", seconds_a_year, \"seconds in one year\")"
   ]
  },
  {
   "cell_type": "code",
   "execution_count": 5,
   "metadata": {},
   "outputs": [
    {
     "name": "stdout",
     "output_type": "stream",
     "text": [
      "There are: Ellipsis seconds in a decade\n"
     ]
    }
   ],
   "source": [
    "# EXERCISE 2\n",
    "\n",
    "# use Python's arithmetic operations to calculate \n",
    "# how many seconds there are in a decade\n",
    "# account for only 2 leap years for this example\n",
    "\n",
    "\n",
    "seconds_in_a_decade = ...\n",
    "print(\"There are: \", seconds_in_a_decade, \"seconds in a decade\")"
   ]
  },
  {
   "cell_type": "markdown",
   "metadata": {},
   "source": [
    "### Variables"
   ]
  },
  {
   "cell_type": "markdown",
   "metadata": {},
   "source": [
    "* What can we save in a variable?\n",
    "* How do we call textual information in Python?"
   ]
  },
  {
   "cell_type": "code",
   "execution_count": null,
   "metadata": {},
   "outputs": [],
   "source": [
    "# EXERCISE 3\n",
    "\n",
    "# assign your name to the variable \"name\"\n",
    "\n",
    "name = ...\n",
    "print(\"My name is \", name)"
   ]
  },
  {
   "cell_type": "code",
   "execution_count": null,
   "metadata": {},
   "outputs": [],
   "source": [
    "# EXERCISE 4\n",
    "\n",
    "# assign your age to a variable\n",
    "# calculate how old you will be in 2030\n",
    "# make sure to use \"my_age\" in your calculations\n",
    "\n",
    "my_age = \n",
    "print(\"I am \", my_age, \" years old\")\n",
    "my_age_in_2030 = ...\n",
    "print(\"In 2030, I will be \", my_age_in_2030, \" years old\")"
   ]
  },
  {
   "cell_type": "markdown",
   "metadata": {},
   "source": [
    "### Lists"
   ]
  },
  {
   "cell_type": "markdown",
   "metadata": {},
   "source": [
    "* What is the main difference between a list and numerals/strings in Python?\n",
    "* Can we save both numerals and strings in a list?"
   ]
  },
  {
   "cell_type": "code",
   "execution_count": 6,
   "metadata": {},
   "outputs": [
    {
     "name": "stdout",
     "output_type": "stream",
     "text": [
      "Ellipsis\n"
     ]
    }
   ],
   "source": [
    "# EXERCISE 5\n",
    "\n",
    "# create a list with your top 3 favorite cafes in Berkeley\n",
    "\n",
    "cafes = ...\n",
    "print(cafes)"
   ]
  },
  {
   "cell_type": "code",
   "execution_count": null,
   "metadata": {},
   "outputs": [],
   "source": [
    "# EXERCISE 6\n",
    "\n",
    "# using both methods you learned so far\n",
    "# add two or more favorite cafes from your classmates' lists\n",
    "# you should probably do that in two lines of code\n",
    "\n",
    "more_cafes = ...\n",
    "print(cafes)"
   ]
  },
  {
   "cell_type": "code",
   "execution_count": null,
   "metadata": {},
   "outputs": [],
   "source": [
    "# EXERCISE 7\n",
    "\n",
    "# using three methods you learned so far\n",
    "# delete three different cafes from the list\n",
    "# try printing out your updated list at every step\n",
    "\n",
    "updated_cafes = ...\n",
    "print(updated_cafes)"
   ]
  },
  {
   "cell_type": "markdown",
   "metadata": {},
   "source": [
    "### Arrays"
   ]
  },
  {
   "cell_type": "markdown",
   "metadata": {},
   "source": [
    "* Can we save both numerals and strings in an array?\n",
    "* Can we change elements of an array?"
   ]
  },
  {
   "cell_type": "code",
   "execution_count": null,
   "metadata": {},
   "outputs": [],
   "source": [
    "# EXERCISE 8\n",
    "\n",
    "# turn your \"updated_cafes\" into an array\n",
    "\n",
    "updated_cafes_arr = ...\n",
    "print(updated_cafes_arr)\n",
    "type(updated_cafes_arr)"
   ]
  },
  {
   "cell_type": "code",
   "execution_count": null,
   "metadata": {},
   "outputs": [],
   "source": [
    "# EXERCISE 9 \n",
    "\n",
    "# create a new array of 5 random digits\n",
    "# then multiply each element by 3 \n",
    "# and save it into a new variable\n",
    "\n",
    "my_digits = ...\n",
    "multiplied_digits = ...\n",
    "\n",
    "print(my_digits)\n",
    "print(multiplied_digits)"
   ]
  }
 ],
 "metadata": {
  "kernelspec": {
   "display_name": "Python 3",
   "language": "python",
   "name": "python3"
  },
  "language_info": {
   "codemirror_mode": {
    "name": "ipython",
    "version": 3
   },
   "file_extension": ".py",
   "mimetype": "text/x-python",
   "name": "python",
   "nbconvert_exporter": "python",
   "pygments_lexer": "ipython3",
   "version": "3.6.2"
  }
 },
 "nbformat": 4,
 "nbformat_minor": 2
}
