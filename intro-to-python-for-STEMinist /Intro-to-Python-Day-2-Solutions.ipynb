{
 "cells": [
  {
   "cell_type": "markdown",
   "metadata": {},
   "source": [
    "# Intro to Python (Part II)\n",
    "\n",
    "\n",
    "\n",
    "---\n",
    "<img src=\"https://calnerds.berkeley.edu/css/images/logo.jpg\"  /> <!--style=\"width: 500px; height: 275px;\"-->\n",
    "\n",
    "### Kseniya Usovich \n",
    "\n",
    "Introduction to Python \n",
    "\n",
    "\n",
    "---\n",
    "<!--\n",
    "### Topics Covered\n",
    "- Variable Assignment\n",
    "- Strings\n",
    "- Numerals\n",
    "- Lists, Arrays, and Tuples \n",
    "- Built-ins \n",
    "- Dictionaries \n",
    "- Loops\n",
    "- Conditionals\n",
    "- Functions\n",
    "- Libraries \n",
    "- Files \n",
    "- Errors\n",
    "- Comprehensions\n",
    "--> \n",
    "\n",
    "### Table of Contents\n",
    "\n",
    "\n",
    "1 - [Conditionals](#section2)<br>  \n",
    "\n",
    "2 - [Loops](#section3) <br>\n",
    "\n",
    "&nbsp;&nbsp;&nbsp;&nbsp;&nbsp;&nbsp; a - [For Loops](#subsection9)<br>\n",
    "\n",
    "&nbsp;&nbsp;&nbsp;&nbsp;&nbsp;&nbsp; b - [While Loops](#subsection10)<br>\n",
    "\n",
    "3 - [Functions](#section4)<br> \n",
    "\n",
    "<!--5 - [Files](#section5)<br> - read, write, edit and save-->\n",
    "\n",
    "4 - [Libraries](#section5)<br> \n",
    "\n",
    "<!--9 - [Errors](#section9)<br> -->\n",
    "\n",
    "<!--8 - [Comprehensions](#section8)<br>-->\n",
    "\n",
    "\n",
    "**Dependencies:**"
   ]
  },
  {
   "cell_type": "code",
   "execution_count": 1,
   "metadata": {},
   "outputs": [],
   "source": [
    "import numpy as np\n",
    "import pandas as pd\n",
    "import math"
   ]
  },
  {
   "cell_type": "markdown",
   "metadata": {},
   "source": [
    "---\n",
    "# Conditionals <a id='section2'></a>"
   ]
  },
  {
   "cell_type": "markdown",
   "metadata": {},
   "source": [
    "Why do we care about conditionals?\n",
    "- Use conditionals statements to control when you want a block of code to execute. \n",
    "    - if x < 2:\n",
    "        print(\"Hello\")\n",
    "        \n",
    "- Use inside loops\n",
    "- Output is a boolean data type.\n"
   ]
  },
  {
   "cell_type": "code",
   "execution_count": 2,
   "metadata": {},
   "outputs": [
    {
     "data": {
      "text/plain": [
       "False"
      ]
     },
     "execution_count": 2,
     "metadata": {},
     "output_type": "execute_result"
    }
   ],
   "source": [
    "# EXAMPLE \n",
    "\n",
    "0 < -1"
   ]
  },
  {
   "cell_type": "code",
   "execution_count": 3,
   "metadata": {},
   "outputs": [
    {
     "data": {
      "text/plain": [
       "False"
      ]
     },
     "execution_count": 3,
     "metadata": {},
     "output_type": "execute_result"
    }
   ],
   "source": [
    "# EXAMPLE \n",
    "\n",
    "abs(-2) < abs(2)"
   ]
  },
  {
   "cell_type": "markdown",
   "metadata": {},
   "source": [
    "Now, let's check the type of each of the examples above. We will using the **type** function. "
   ]
  },
  {
   "cell_type": "code",
   "execution_count": 4,
   "metadata": {},
   "outputs": [
    {
     "data": {
      "text/plain": [
       "bool"
      ]
     },
     "execution_count": 4,
     "metadata": {},
     "output_type": "execute_result"
    }
   ],
   "source": [
    "# EXAMPLE \n",
    "type(0< -1)"
   ]
  },
  {
   "cell_type": "code",
   "execution_count": 5,
   "metadata": {},
   "outputs": [
    {
     "data": {
      "text/plain": [
       "bool"
      ]
     },
     "execution_count": 5,
     "metadata": {},
     "output_type": "execute_result"
    }
   ],
   "source": [
    "# EXAMPLE  \n",
    "type(abs(-2) < abs(2))"
   ]
  },
  {
   "cell_type": "markdown",
   "metadata": {},
   "source": [
    "## Operators \n",
    "Here is a list with more **operators**!\n",
    "\n",
    "|Operator| Meaning|\n",
    "|--------|---------|\n",
    "|< | less than |\n",
    "|<= | lass than or equal to|\n",
    "|> | greater than |\n",
    "|>= | greater than or equal to|\n",
    "|!= | not equal to|\n",
    "|== | equal to|"
   ]
  },
  {
   "cell_type": "markdown",
   "metadata": {},
   "source": [
    "Let's try some excercises:"
   ]
  },
  {
   "cell_type": "markdown",
   "metadata": {},
   "source": [
    "**Exercise 1**  Write \"4 equal to 'four'\" in code using conditionals."
   ]
  },
  {
   "cell_type": "code",
   "execution_count": 6,
   "metadata": {},
   "outputs": [
    {
     "data": {
      "text/plain": [
       "False"
      ]
     },
     "execution_count": 6,
     "metadata": {},
     "output_type": "execute_result"
    }
   ],
   "source": [
    "# YOUR CODE\n",
    "\n",
    "4 == 'four'"
   ]
  },
  {
   "cell_type": "markdown",
   "metadata": {},
   "source": [
    "**Exercise 2**  Write \"2 equal to 1 + 1\" in code using conditionals."
   ]
  },
  {
   "cell_type": "code",
   "execution_count": 7,
   "metadata": {},
   "outputs": [
    {
     "data": {
      "text/plain": [
       "True"
      ]
     },
     "execution_count": 7,
     "metadata": {},
     "output_type": "execute_result"
    }
   ],
   "source": [
    "# YOUR CODE \n",
    "\n",
    "2 == 1+1"
   ]
  },
  {
   "cell_type": "markdown",
   "metadata": {},
   "source": [
    "**Exercise 3**  Write \"0 equal to False'\" in code using conditionals."
   ]
  },
  {
   "cell_type": "code",
   "execution_count": 8,
   "metadata": {},
   "outputs": [
    {
     "data": {
      "text/plain": [
       "True"
      ]
     },
     "execution_count": 8,
     "metadata": {},
     "output_type": "execute_result"
    }
   ],
   "source": [
    "# YOUR CODE\n",
    "\n",
    "0 == False"
   ]
  },
  {
   "cell_type": "markdown",
   "metadata": {},
   "source": [
    "**Exercise 4** How would you express 30 in the interval 28 to 50, exclusive? "
   ]
  },
  {
   "cell_type": "code",
   "execution_count": 9,
   "metadata": {},
   "outputs": [
    {
     "data": {
      "text/plain": [
       "True"
      ]
     },
     "execution_count": 9,
     "metadata": {},
     "output_type": "execute_result"
    }
   ],
   "source": [
    "# YOUR CODE\n",
    "\n",
    "28<=30<=50"
   ]
  },
  {
   "cell_type": "markdown",
   "metadata": {},
   "source": [
    "\n",
    "## A conditional statement\n",
    "\n",
    "A conditional statement has the following form:\n",
    "\n",
    "`if <condition>:\n",
    "    <do_something> \n",
    "elif <condition>:\n",
    "    <do_something>\n",
    "else:\n",
    "     <do_something>`\n",
    "        \n",
    "                 \n",
    "The **condition** called **expressions** and **do_something** are called **suite**. (Don' worry about terminology for now.)"
   ]
  },
  {
   "cell_type": "code",
   "execution_count": 10,
   "metadata": {},
   "outputs": [
    {
     "name": "stdout",
     "output_type": "stream",
     "text": [
      "True. 5 is less than 6!\n"
     ]
    }
   ],
   "source": [
    "# EXAMPLE\n",
    "\n",
    "if 5 < 6:\n",
    "    print(\"True. 5 is less than 6!\")\n",
    "else:\n",
    "    print(\"False. What is math?\")\n",
    "    \n"
   ]
  },
  {
   "cell_type": "markdown",
   "metadata": {},
   "source": [
    "Want more practice? Try the example above with different operators or different numbers. Feel free to also play around with the text in the print statements."
   ]
  },
  {
   "cell_type": "code",
   "execution_count": 11,
   "metadata": {},
   "outputs": [
    {
     "name": "stdout",
     "output_type": "stream",
     "text": [
      "True. 5 is less than 6!\n"
     ]
    }
   ],
   "source": [
    "# EXERCISE\n",
    "\n",
    "\n",
    "if ...:\n",
    "    print(\"True. 5 is less than 6!\")\n",
    "else:\n",
    "    print(\"False. What is math?\")\n",
    "    "
   ]
  },
  {
   "cell_type": "markdown",
   "metadata": {},
   "source": [
    "**How do conditional statements work?**\n",
    "* First, it evaluated the header expression(which is the `if` statement). If the statement is True, then it executes the first suite otherwise, it checks the condition of the `elif`, and so on. \n",
    "* It will only execute the suite (do_something) of the `else` clause, if the conditions of the `if` and `elif` are false (not met). \n",
    "\n",
    "\n",
    "**Some notes about conditional statements:**\n",
    "* You can have as many `elif` expressions as you want, but you can only have one `if` and one `else` statement. \n",
    "* `else` always comes at the end.\n",
    "* You do not always need and `else`.\n",
    "* When you execute a conditional statement, you must ALWAYS consider the order of you statements."
   ]
  },
  {
   "cell_type": "code",
   "execution_count": 12,
   "metadata": {},
   "outputs": [
    {
     "name": "stdout",
     "output_type": "stream",
     "text": [
      "Hello,6!\n"
     ]
    }
   ],
   "source": [
    "# EXAMPLE 1 \n",
    "\n",
    "if len(\"Karla \") == 5:\n",
    "    print(\"Hello, 5!\")\n",
    "else:\n",
    "    print(\"Hello,6!\")"
   ]
  },
  {
   "cell_type": "code",
   "execution_count": 13,
   "metadata": {},
   "outputs": [
    {
     "name": "stdout",
     "output_type": "stream",
     "text": [
      "fizzbuzz\n"
     ]
    }
   ],
   "source": [
    "# EXAMPLE 2 \n",
    "\n",
    "fizzbuzz = 15\n",
    "if fizzbuzz % 3 == 0 and fizzbuzz % 5 == 0: \n",
    "    print(\"fizzbuzz\")\n",
    "elif fizzbuzz % 3 == 0:\n",
    "    print(\"fizz\")\n",
    "elif fizzbuzz % 5 == 0:\n",
    "    print(\"buzz\")\n"
   ]
  },
  {
   "cell_type": "code",
   "execution_count": 14,
   "metadata": {},
   "outputs": [
    {
     "name": "stdout",
     "output_type": "stream",
     "text": [
      "Cal NERDS\n"
     ]
    }
   ],
   "source": [
    "# EXERCISE 1\n",
    "\n",
    "# if the strings is equal to NERDS, print \"Cal NERDS\", if not print \"Geek\". \n",
    "string1 = \"NERDS\"\n",
    "\n",
    "if string1 == \"NERDS\":\n",
    "    print(\"Cal NERDS\")\n",
    "else:\n",
    "    print(\"Geek\")\n",
    "\n"
   ]
  },
  {
   "cell_type": "code",
   "execution_count": 15,
   "metadata": {},
   "outputs": [
    {
     "name": "stdout",
     "output_type": "stream",
     "text": [
      "Geek\n"
     ]
    }
   ],
   "source": [
    "# Once you completed the code above, try it with a new string where the string is NOT \"NERDS\". \n",
    "# We have suggeste string2. \n",
    "\n",
    "string2 = \"NOT A NERD\"\n",
    "\n",
    "if string2 == \"NERD\":\n",
    "    print('Cal NERDS')\n",
    "else:\n",
    "    print('Geek')\n"
   ]
  },
  {
   "cell_type": "markdown",
   "metadata": {},
   "source": [
    "---\n",
    "# Loops <a id='section3'></a>"
   ]
  },
  {
   "cell_type": "markdown",
   "metadata": {},
   "source": [
    "What are loops useful for? \n",
    "- Sometimes we want to perform some operation on a list, or tuple, but doing it on each element individually can be very tedious!\n",
    "- A loop goes through a collection of data types and **executes** some state statement **for each value** in that collection of data. \n",
    "- Examples of data types are: list, array, characters string, tuple, dictionary, and other collections"
   ]
  },
  {
   "cell_type": "markdown",
   "metadata": {},
   "source": [
    "---\n",
    "## \"For\" Loops <a id='subsection9'></a>"
   ]
  },
  {
   "cell_type": "markdown",
   "metadata": {},
   "source": [
    "Syntax: \n",
    "\n",
    "**for** var **in** iterable:\n",
    "\n",
    "    statement \n",
    "    statement \n",
    "  **else:**\n",
    "  \n",
    "  \n",
    "    statement \n",
    "    \n",
    "* var - it takes items from iterable one by one. \n",
    "* iterable - it's a collection of objects (list tuple)\n",
    "* indentation - loop body MUST be indented \n",
    "* loop body - first two statements \n",
    "* else clause - last statement. \n"
   ]
  },
  {
   "cell_type": "code",
   "execution_count": 16,
   "metadata": {},
   "outputs": [
    {
     "name": "stdout",
     "output_type": "stream",
     "text": [
      "1\n",
      "4\n",
      "9\n"
     ]
    }
   ],
   "source": [
    "# EXAMPLE \n",
    "\n",
    "# Square each value in the tuple \n",
    "\n",
    "for x in (1,2,3):\n",
    "    print(x**2)\n",
    "    "
   ]
  },
  {
   "cell_type": "code",
   "execution_count": 17,
   "metadata": {},
   "outputs": [
    {
     "name": "stdout",
     "output_type": "stream",
     "text": [
      "1\n",
      "2.0\n",
      "k\n"
     ]
    },
    {
     "data": {
      "text/plain": [
       "'k'"
      ]
     },
     "execution_count": 17,
     "metadata": {},
     "output_type": "execute_result"
    }
   ],
   "source": [
    "# EXAMPLE \n",
    "\n",
    "# Print each item in the list. \n",
    "# Recall that the elements in the list do not have to have the same type \n",
    "\n",
    "for i in [1, 2.0, \"k\"]:\n",
    "    print(i)\n",
    "    \n",
    "i # Return output.That is, the last value that i took inside of our loop.\n"
   ]
  },
  {
   "cell_type": "markdown",
   "metadata": {},
   "source": [
    "Create a for-loop that multiplies every number in the list by 3 (and outputs it on every step)."
   ]
  },
  {
   "cell_type": "code",
   "execution_count": 18,
   "metadata": {},
   "outputs": [
    {
     "name": "stdout",
     "output_type": "stream",
     "text": [
      "3\n",
      "15\n",
      "21\n",
      "0\n",
      "30\n",
      "12\n",
      "21\n"
     ]
    }
   ],
   "source": [
    "# EXERCISE \n",
    "\n",
    "numbers = [1, 5, 7, 0, 10, 4, 7]\n",
    "\n",
    "for i in numbers:\n",
    "    print(i*3)\n",
    "    ..."
   ]
  },
  {
   "cell_type": "markdown",
   "metadata": {},
   "source": [
    "---\n",
    "\n",
    "### Challenge Exercise"
   ]
  },
  {
   "cell_type": "markdown",
   "metadata": {},
   "source": [
    "Can you explain why we are keeping our new_list outside of the for-loop?"
   ]
  },
  {
   "cell_type": "code",
   "execution_count": 19,
   "metadata": {},
   "outputs": [
    {
     "name": "stdout",
     "output_type": "stream",
     "text": [
      "['dog']\n",
      "['dog', 'cat']\n",
      "['dog', 'cat', 'bird']\n",
      "['dog', 'cat', 'bird', 'fish']\n",
      "['dog', 'cat', 'bird', 'fish', 'bear']\n"
     ]
    }
   ],
   "source": [
    "# EXERCISE \n",
    "\n",
    "# Add each animal from the animals list to the new-animal list\n",
    "\n",
    "\n",
    "animals = [\"dog\", \"cat\", \"bird\", \"fish\", \"bear\"]\n",
    "new_animal = []\n",
    "\n",
    "for animal in animals:\n",
    "    new_animal = new_animal +[animal] # You can concatenate/glue lists together\n",
    "    print(new_animal)\n",
    "    \n",
    "########## ALTERNATIVE SOLUTION ########## \n",
    "\n",
    "#for animal in animals:\n",
    "#    new_animal.append(animal) # Using the .append() method. \n",
    "#    print(new_animal)         # Notice that this method does NOT require you to \n",
    "                              # reassign new_animal in each iteration?\n",
    "    \n",
    "    "
   ]
  },
  {
   "cell_type": "markdown",
   "metadata": {},
   "source": [
    "---"
   ]
  },
  {
   "cell_type": "code",
   "execution_count": 20,
   "metadata": {},
   "outputs": [
    {
     "name": "stdout",
     "output_type": "stream",
     "text": [
      "53.1415926535898\n",
      "78.27433388230814\n",
      "128.53981633974485\n",
      "203.93804002589985\n",
      "304.46900494077323\n"
     ]
    },
    {
     "data": {
      "text/plain": [
       "254.46900494077323"
      ]
     },
     "execution_count": 20,
     "metadata": {},
     "output_type": "execute_result"
    }
   ],
   "source": [
    "# EXAMPLE \n",
    "\n",
    "# calculate the area for circles with different radius\n",
    "# you can save the list in variable before iterating over it\n",
    "\n",
    "radiuses = [1, 3, 5, 7, 9]\n",
    "\n",
    "for radius in radiuses: \n",
    "    area = math.pi*radius**2\n",
    "    new_area = area +50\n",
    "    print(new_area)\n",
    "    \n",
    "area # returning the last value area took inside of our loop. "
   ]
  },
  {
   "cell_type": "markdown",
   "metadata": {},
   "source": [
    "---\n",
    "\n",
    "### Bonus"
   ]
  },
  {
   "cell_type": "code",
   "execution_count": 21,
   "metadata": {},
   "outputs": [
    {
     "name": "stdout",
     "output_type": "stream",
     "text": [
      "A\n",
      " \n",
      "V\n",
      "E\n",
      "R\n",
      "Y\n",
      " \n",
      "L\n",
      "O\n",
      "N\n",
      "G\n",
      " \n",
      "W\n",
      "O\n",
      "R\n",
      "D\n"
     ]
    }
   ],
   "source": [
    "# EXAMPLE \n",
    "\n",
    "# change each letter in the random_sentence from lower to upper case \n",
    "random_sentence = \"A very long word\"\n",
    "\n",
    "for letter in random_sentence:\n",
    "    print(letter.upper())"
   ]
  },
  {
   "cell_type": "markdown",
   "metadata": {},
   "source": [
    "As we mentioned before, you can loop through any iterable data type or data sctructure. That means that we can even loop through dictionaries."
   ]
  },
  {
   "cell_type": "code",
   "execution_count": 22,
   "metadata": {},
   "outputs": [
    {
     "name": "stdout",
     "output_type": "stream",
     "text": [
      "New York\n",
      "Los Angeles\n",
      "Miami\n",
      "Chicago\n"
     ]
    }
   ],
   "source": [
    "# EXAMPLE\n",
    "\n",
    "cities = {'New York': 1, 'Los Angeles': 2, 'Miami': 3, 'Chicago': 4}\n",
    "    \n",
    "for key in cities:\n",
    "    print(key)"
   ]
  },
  {
   "cell_type": "markdown",
   "metadata": {},
   "source": [
    "In the cell below, try looping through the values instead of keys."
   ]
  },
  {
   "cell_type": "code",
   "execution_count": 23,
   "metadata": {},
   "outputs": [
    {
     "name": "stdout",
     "output_type": "stream",
     "text": [
      "New York\n",
      "Los Angeles\n",
      "Miami\n",
      "Chicago\n"
     ]
    }
   ],
   "source": [
    "# EXERCISE\n",
    "\n",
    "for value in cities:\n",
    "    print(value)"
   ]
  },
  {
   "cell_type": "markdown",
   "metadata": {},
   "source": [
    "---\n",
    "\n",
    "### Bonus"
   ]
  },
  {
   "cell_type": "markdown",
   "metadata": {},
   "source": [
    "\n",
    "#### \"While\" Loops  <a id='subsection10'></a>"
   ]
  },
  {
   "cell_type": "markdown",
   "metadata": {},
   "source": [
    "Syntax:\n",
    "\n",
    "**while** condition: \n",
    "\n",
    "    statement \n",
    "    statement \n",
    "    \n",
    "**else:**\n",
    "\n",
    "    statement \n",
    "    \n",
    "* condition - any expression that evaluates to true or false (so, our conditionals!)\n",
    "* loop body - first and second statements. It is excludes as long as the condition is true. \n",
    "* else clause - it is executed if the condition becomes false \n",
    "* indentation - loop body must be indented. "
   ]
  },
  {
   "cell_type": "code",
   "execution_count": 24,
   "metadata": {},
   "outputs": [
    {
     "name": "stdout",
     "output_type": "stream",
     "text": [
      "10\n",
      "9\n",
      "8\n",
      "7\n",
      "6\n",
      "5\n",
      "4\n",
      "3\n",
      "2\n",
      "1\n"
     ]
    }
   ],
   "source": [
    "# EXAMPLE\n",
    "\n",
    "# Iterates while the condition is True. \n",
    "# That is, it iterated until x becomes 0 (recall 0 evaluates to False?).\n",
    "\n",
    "x = 10 # initial x value\n",
    "while x: \n",
    "    print(x) \n",
    "    x = x - 1 # subtracting one in each iteration\n",
    "    "
   ]
  },
  {
   "cell_type": "code",
   "execution_count": 25,
   "metadata": {},
   "outputs": [
    {
     "name": "stdout",
     "output_type": "stream",
     "text": [
      "I can code!\n",
      " can code!\n",
      "can code!\n",
      "an code!\n",
      "n code!\n",
      " code!\n",
      "code!\n",
      "ode!\n",
      "de!\n",
      "e!\n",
      "!\n"
     ]
    }
   ],
   "source": [
    "# EXAMPLE\n",
    "\n",
    "# Iterates until the string is empty. Recall that empty strings evaluate to False? \n",
    "\n",
    "x = 'I can code!'\n",
    "while x: # Excecutes code below while the condition is True. That is, as long as x is not empty.\n",
    "    print(x)\n",
    "    x = x[1:] # Returns everything but the first item in x after each iteration and re-assigns that value to x.\n",
    "    "
   ]
  },
  {
   "cell_type": "code",
   "execution_count": 26,
   "metadata": {},
   "outputs": [
    {
     "name": "stdout",
     "output_type": "stream",
     "text": [
      "10\n",
      "9\n",
      "8\n",
      "7\n",
      "6\n",
      "5\n",
      "4\n",
      "3\n",
      "2\n",
      "1\n",
      "Done with my countdown!\n"
     ]
    }
   ],
   "source": [
    "# EXAMPLE\n",
    "\n",
    "x = 10\n",
    "while x: \n",
    "    print(x)\n",
    "    x = x - 1\n",
    "else: # execuates code below only when condition is False ( x == 0 )\n",
    "    print('Done with my countdown!')"
   ]
  },
  {
   "cell_type": "code",
   "execution_count": 27,
   "metadata": {},
   "outputs": [
    {
     "name": "stdout",
     "output_type": "stream",
     "text": [
      "81\n",
      "49\n",
      "25\n",
      "9\n",
      "1\n"
     ]
    }
   ],
   "source": [
    "# EXERCISE\n",
    "\n",
    "# Create a while loop that skips even numbers and squares it\n",
    "\n",
    "x = 10 \n",
    "while x:\n",
    "    x = x-1         # subtracting 1 from x in each iteration\n",
    "    if x % 2 != 0 : # same as saying \"if x is odd\"\n",
    "        print(x**2)\n",
    "      "
   ]
  },
  {
   "cell_type": "markdown",
   "metadata": {},
   "source": [
    "---\n",
    "# Functions<a id='section4'></a>"
   ]
  },
  {
   "cell_type": "markdown",
   "metadata": {},
   "source": [
    "### Built-in Functions"
   ]
  },
  {
   "cell_type": "markdown",
   "metadata": {},
   "source": [
    "Python does not have a lot of built-in (aka available by default) functions and methods. But it does have some. We will go over a few useful functions and methods that will be good for you to know. \n",
    "\n"
   ]
  },
  {
   "cell_type": "markdown",
   "metadata": {},
   "source": [
    "If something is a function, it will appear in green color. "
   ]
  },
  {
   "cell_type": "code",
   "execution_count": 28,
   "metadata": {},
   "outputs": [
    {
     "data": {
      "text/plain": [
       "9"
      ]
     },
     "execution_count": 28,
     "metadata": {},
     "output_type": "execute_result"
    }
   ],
   "source": [
    "# EXAMPLE \n",
    "\n",
    "max(2, 5, 9, 7)\n"
   ]
  },
  {
   "cell_type": "code",
   "execution_count": 29,
   "metadata": {},
   "outputs": [
    {
     "data": {
      "text/plain": [
       "3"
      ]
     },
     "execution_count": 29,
     "metadata": {},
     "output_type": "execute_result"
    }
   ],
   "source": [
    "# EXAMPLE \n",
    "\n",
    "min(3, 7)\n"
   ]
  },
  {
   "cell_type": "markdown",
   "metadata": {},
   "source": [
    "How will this function work with textual information (aka strings)?\n",
    "Pause for a moment to answer this question before you run this cell."
   ]
  },
  {
   "cell_type": "code",
   "execution_count": 30,
   "metadata": {},
   "outputs": [
    {
     "data": {
      "text/plain": [
       "'dog'"
      ]
     },
     "execution_count": 30,
     "metadata": {},
     "output_type": "execute_result"
    }
   ],
   "source": [
    "# EXAMPLE \n",
    "\n",
    "max(\"dog\", \"Dog\")\n"
   ]
  },
  {
   "cell_type": "markdown",
   "metadata": {},
   "source": [
    "Another built-in function you will most likely use in your coding a lot, is  **len(   )**. It is used to learn about the length of different objects. "
   ]
  },
  {
   "cell_type": "code",
   "execution_count": 31,
   "metadata": {},
   "outputs": [
    {
     "data": {
      "text/plain": [
       "3"
      ]
     },
     "execution_count": 31,
     "metadata": {},
     "output_type": "execute_result"
    }
   ],
   "source": [
    "# EXAMPLE\n",
    "\n",
    "len(\"dog\")\n"
   ]
  },
  {
   "cell_type": "code",
   "execution_count": 32,
   "metadata": {},
   "outputs": [
    {
     "data": {
      "text/plain": [
       "4"
      ]
     },
     "execution_count": 32,
     "metadata": {},
     "output_type": "execute_result"
    }
   ],
   "source": [
    "# EXERCISE\n",
    "\n",
    "# what do you think this cell will output?\n",
    "\n",
    "\n",
    "len(\"dog \")\n"
   ]
  },
  {
   "cell_type": "markdown",
   "metadata": {},
   "source": [
    "When used with lists, it counts only the \"outter\" objects. Meaning, if there are lists or arrays inside of your list, no matter however many objects each of them has, the len(  ) will count the whole list (array, tuple, dictionary) as a single object."
   ]
  },
  {
   "cell_type": "code",
   "execution_count": 33,
   "metadata": {},
   "outputs": [
    {
     "data": {
      "text/plain": [
       "3"
      ]
     },
     "execution_count": 33,
     "metadata": {},
     "output_type": "execute_result"
    }
   ],
   "source": [
    "# EXAMPLE\n",
    "\n",
    "\n",
    "len([1,3,4])\n"
   ]
  },
  {
   "cell_type": "code",
   "execution_count": 34,
   "metadata": {},
   "outputs": [
    {
     "data": {
      "text/plain": [
       "2"
      ]
     },
     "execution_count": 34,
     "metadata": {},
     "output_type": "execute_result"
    }
   ],
   "source": [
    "random = [[1,2,3,4],[4,5,6]]\n",
    "\n",
    "# Before running this cell, can you guess the output \n",
    "# it will give you?\n",
    "\n",
    "len(random)\n"
   ]
  },
  {
   "cell_type": "markdown",
   "metadata": {},
   "source": [
    "In the example below, we will use a built-in method. There's no big difference between the two except for the syntax.\n",
    "\n",
    "Functions (not only the built-in ones) are usually used in the form of   \n",
    "\n",
    "**function(argument 1, argument n)**\n",
    "\n",
    "Unlike functions, methods are usually added at the end of the variable.\n",
    "\n",
    "**variable.method()**"
   ]
  },
  {
   "cell_type": "code",
   "execution_count": 35,
   "metadata": {},
   "outputs": [
    {
     "name": "stdout",
     "output_type": "stream",
     "text": [
      "HELLO WORLD\n",
      "Hello World\n"
     ]
    }
   ],
   "source": [
    "# EXAMPLE \n",
    "\n",
    "hello = \"Hello World\"\n",
    "\n",
    "print(hello.upper())\n",
    "print(hello)"
   ]
  },
  {
   "cell_type": "markdown",
   "metadata": {},
   "source": [
    "Have you noticed that the variable **hello** didn't change? Can you think why is that? "
   ]
  },
  {
   "cell_type": "code",
   "execution_count": 36,
   "metadata": {},
   "outputs": [
    {
     "data": {
      "text/plain": [
       "'hello world'"
      ]
     },
     "execution_count": 36,
     "metadata": {},
     "output_type": "execute_result"
    }
   ],
   "source": [
    "# EXAMPLE \n",
    "\n",
    "\n",
    "hello = hello.lower()\n",
    "hello"
   ]
  },
  {
   "cell_type": "markdown",
   "metadata": {},
   "source": [
    "In the cell below, create a variable **phrase** which tells us what school you go to. Then change all the letters to upper-cased letters."
   ]
  },
  {
   "cell_type": "code",
   "execution_count": 37,
   "metadata": {},
   "outputs": [
    {
     "name": "stdout",
     "output_type": "stream",
     "text": [
      "I GO TO UC BERKELEY\n"
     ]
    }
   ],
   "source": [
    "# EXERCISE \n",
    "\n",
    "\n",
    "phrase = \"I go to UC Berkeley\"\n",
    "phrase = phrase.upper()\n",
    "\n",
    "print(phrase)"
   ]
  },
  {
   "cell_type": "markdown",
   "metadata": {},
   "source": [
    "### Defining Fucntions"
   ]
  },
  {
   "cell_type": "markdown",
   "metadata": {},
   "source": [
    "A function is a block code that you can reuse to perform a specific action. In the next cell, we will be defining a simple one-line function that takes one argument."
   ]
  },
  {
   "cell_type": "code",
   "execution_count": 38,
   "metadata": {},
   "outputs": [
    {
     "data": {
      "text/plain": [
       "9"
      ]
     },
     "execution_count": 38,
     "metadata": {},
     "output_type": "execute_result"
    }
   ],
   "source": [
    "# EXAMPLE\n",
    "\n",
    "def square(x):\n",
    "    return x**2\n",
    "\n",
    "square(3) # calling the function \n",
    "three_squared = square(3) # saving it on a variable \n",
    "three_squared\n",
    "\n",
    "\n",
    "# SOME NOTES: \n",
    "# 1. square is the name of the function \n",
    "# 2. x is the only argument. This function takes only one value \n",
    "# 3. The action that this function does is that it squares x\n",
    "# 4. Using \"return\" instead of \"print\" does two things\n",
    "        # 1) retuns stops further execution of code \n",
    "        # 2) allows you to save the returning value into a variable\n"
   ]
  },
  {
   "cell_type": "code",
   "execution_count": 39,
   "metadata": {},
   "outputs": [
    {
     "name": "stdout",
     "output_type": "stream",
     "text": [
      "9\n"
     ]
    }
   ],
   "source": [
    "# This function does the same thing as the one in cell below but it uses \"print\" instead\n",
    "# Can you tell the difference in behavior?\n",
    "\n",
    "def square(x):\n",
    "    print(x**2)\n",
    "\n",
    "square(3)\n"
   ]
  },
  {
   "cell_type": "markdown",
   "metadata": {},
   "source": [
    "Your functions can perform multiple calculations and use more than one argument. You can also incorporate for-loops, conditionals, and other functions inside of your function.\n",
    "\n",
    "\n",
    "**Note:** we won't be going over the nested functions (functions with other functions inside, but feel free to search for them)."
   ]
  },
  {
   "cell_type": "markdown",
   "metadata": {},
   "source": [
    "In the cell below, we are going to define a function that will multiply the two numbers you give it only if they are not equal to each other."
   ]
  },
  {
   "cell_type": "code",
   "execution_count": 40,
   "metadata": {},
   "outputs": [
    {
     "name": "stdout",
     "output_type": "stream",
     "text": [
      "Use the square function instead\n"
     ]
    }
   ],
   "source": [
    "# EXAMPLE\n",
    "\n",
    "def mult_not_eq(x, y):\n",
    "    if x!=y:        # if the first number is not equal to the second, multiply them\n",
    "        return x*y \n",
    "    else:           # if the firt number is equal to the second print the statemnt below\n",
    "        print(\"Use the square function instead\")  \n",
    "        \n",
    "        \n",
    "mult_not_eq(2, 2)\n"
   ]
  },
  {
   "cell_type": "markdown",
   "metadata": {},
   "source": [
    "Now it's time for you to define a function. Create a function that will add up two numbers, but only if they are not equals."
   ]
  },
  {
   "cell_type": "code",
   "execution_count": 41,
   "metadata": {},
   "outputs": [
    {
     "data": {
      "text/plain": [
       "6"
      ]
     },
     "execution_count": 41,
     "metadata": {},
     "output_type": "execute_result"
    }
   ],
   "source": [
    "# EXERCISE\n",
    "\n",
    "def sum_not_equals(num1, num2):\n",
    "    if num1 != num2:\n",
    "        return num1 + num2\n",
    "    else:\n",
    "        print(\"Numbers are equal, can't add them. \")\n",
    "    \n",
    "    \n",
    "sum_not_equals(1, 5)\n"
   ]
  },
  {
   "cell_type": "markdown",
   "metadata": {},
   "source": [
    "---\n",
    "### Importing Libraries <a id='section5'></a>\n",
    "\n"
   ]
  },
  {
   "cell_type": "markdown",
   "metadata": {},
   "source": [
    "You can build all your functions from scratch but that is unnecessary in most cases. Python programmers all over the world have already built a lot of **\"libraries\"** - collections of pre-coded functions. To use them, you normally need to install them on your computer (not needed for most if you use Anaconda) and then import it into your Jupyter Notebook. "
   ]
  },
  {
   "cell_type": "code",
   "execution_count": 42,
   "metadata": {},
   "outputs": [],
   "source": [
    "# EXAMPLE\n",
    "\n",
    "import numpy as np  # import library as short-name \n"
   ]
  },
  {
   "cell_type": "markdown",
   "metadata": {},
   "source": [
    "To learn about what numpy is good for make sure to go [here](https://numpy.org/).\n",
    "\n",
    "\n",
    "Now that we imported **numpy** library, we can use it's functions."
   ]
  },
  {
   "cell_type": "code",
   "execution_count": 43,
   "metadata": {},
   "outputs": [
    {
     "data": {
      "text/plain": [
       "7.6"
      ]
     },
     "execution_count": 43,
     "metadata": {},
     "output_type": "execute_result"
    }
   ],
   "source": [
    "# EXAMPLE\n",
    "\n",
    "rand_nums = [1,5,8,9,15]\n",
    "\n",
    "np.mean(rand_nums)\n"
   ]
  },
  {
   "cell_type": "markdown",
   "metadata": {},
   "source": [
    "Another useful library to have is **math**. It things like cos, sin, and pi pre-saved so you can use them in your calculations."
   ]
  },
  {
   "cell_type": "code",
   "execution_count": 44,
   "metadata": {},
   "outputs": [
    {
     "data": {
      "text/plain": [
       "28.274333882308138"
      ]
     },
     "execution_count": 44,
     "metadata": {},
     "output_type": "execute_result"
    }
   ],
   "source": [
    "# EXAMPLE\n",
    "\n",
    "import math\n",
    "\n",
    "radius = 3\n",
    "area_circle = math.pi * radius**2\n",
    "\n",
    "area_circle"
   ]
  },
  {
   "cell_type": "markdown",
   "metadata": {},
   "source": [
    "---\n",
    "Notebook developed by: Kseniya Usovich & Karla Palos\n",
    "\n",
    "Cal NERDS GitHub: https://github.com/Cal-NERDS\n"
   ]
  }
 ],
 "metadata": {
  "anaconda-cloud": {},
  "kernelspec": {
   "display_name": "Python 3",
   "language": "python",
   "name": "python3"
  },
  "language_info": {
   "codemirror_mode": {
    "name": "ipython",
    "version": 3
   },
   "file_extension": ".py",
   "mimetype": "text/x-python",
   "name": "python",
   "nbconvert_exporter": "python",
   "pygments_lexer": "ipython3",
   "version": "3.6.8"
  }
 },
 "nbformat": 4,
 "nbformat_minor": 1
}
